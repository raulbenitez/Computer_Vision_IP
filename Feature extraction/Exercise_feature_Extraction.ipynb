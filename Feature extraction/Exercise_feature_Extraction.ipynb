{
  "nbformat": 4,
  "nbformat_minor": 0,
  "metadata": {
    "colab": {
      "provenance": [],
      "authorship_tag": "ABX9TyOafEW5sr6OFobSDgAy8h7M",
      "include_colab_link": true
    },
    "kernelspec": {
      "name": "python3",
      "display_name": "Python 3"
    },
    "language_info": {
      "name": "python"
    }
  },
  "cells": [
    {
      "cell_type": "markdown",
      "metadata": {
        "id": "view-in-github",
        "colab_type": "text"
      },
      "source": [
        "<a href=\"https://colab.research.google.com/github/raulbenitez/Computer_Vision_IP/blob/main/Feature%20extraction/Exercise_feature_Extraction.ipynb\" target=\"_parent\"><img src=\"https://colab.research.google.com/assets/colab-badge.svg\" alt=\"Open In Colab\"/></a>"
      ]
    },
    {
      "cell_type": "markdown",
      "source": [
        "# Exercise: Feature extraction"
      ],
      "metadata": {
        "id": "xaLhqAfszZAt"
      }
    },
    {
      "cell_type": "markdown",
      "source": [
        "## Task 1: \n",
        "Load the skimage built-in images 'coins' and represent the coins that have a eccentricity larger and lower than the average. \n",
        "\n"
      ],
      "metadata": {
        "id": "tjP6WL6Azb99"
      }
    },
    {
      "cell_type": "code",
      "source": [
        "from skimage import data\n",
        "\n",
        "Icoins = data.coins()"
      ],
      "metadata": {
        "id": "qD0BAsojz2gb"
      },
      "execution_count": 1,
      "outputs": []
    },
    {
      "cell_type": "markdown",
      "source": [
        "## Task 2: \n",
        "\n",
        "Repeat task 1 with the skimage built-in images 'page'.\n"
      ],
      "metadata": {
        "id": "fdeLm0tfz2qC"
      }
    },
    {
      "cell_type": "code",
      "source": [],
      "metadata": {
        "id": "ZQnjKVsP0wX0"
      },
      "execution_count": null,
      "outputs": []
    },
    {
      "cell_type": "markdown",
      "source": [
        "## Task 3: \n",
        "Consider  the function 'binary_blobs' from skimage to generate binary random blobs. Explore the effect of parameters 'blob_size_fraction' and 'volume_fraction'. "
      ],
      "metadata": {
        "id": "GYfXOASo0wej"
      }
    },
    {
      "cell_type": "code",
      "source": [
        "from skimage import data\n",
        "\n",
        "IG = data.binary_blobs(length=256, blob_size_fraction=0.1,volume_fraction=0.3)\n"
      ],
      "metadata": {
        "id": "7BYghrri04To"
      },
      "execution_count": null,
      "outputs": []
    },
    {
      "cell_type": "markdown",
      "source": [
        "## Task 4: \n",
        "\n",
        "Choose a combination of 'blob_size_fraction' and 'volume_fraction' and generate 10 different images with random blobs. Pool the properties of all the blobs from the 10 images and obtain the overall average of blob's area $\\mu_{area}$. Represent a $5\\times2$ panel with the blobs that have an area smaller than $\\mu_{area}$ in each of the 10 images\n"
      ],
      "metadata": {
        "id": "os_DosTg1OFH"
      }
    },
    {
      "cell_type": "code",
      "source": [],
      "metadata": {
        "id": "pIc3jHjL1fCr"
      },
      "execution_count": null,
      "outputs": []
    }
  ]
}